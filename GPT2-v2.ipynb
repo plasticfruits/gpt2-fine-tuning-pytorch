{
 "cells": [
  {
   "cell_type": "markdown",
   "metadata": {
    "id": "EKOTlwcmxmej"
   },
   "source": [
    "# GPT-2 Fine-Tuning Tutorial with PyTorch & Huggingface in Colab\n",
    "\n",
    "\n"
   ]
  },
  {
   "cell_type": "markdown",
   "metadata": {},
   "source": [
    "References:\n",
    "- \n",
    "- "
   ]
  },
  {
   "cell_type": "markdown",
   "metadata": {
    "id": "Xf3Qw77SZGbS"
   },
   "source": [
    "# Setup"
   ]
  },
  {
   "cell_type": "code",
   "execution_count": 1,
   "metadata": {
    "execution": {
     "iopub.execute_input": "2022-05-03T08:15:13.185431Z",
     "iopub.status.busy": "2022-05-03T08:15:13.185146Z",
     "iopub.status.idle": "2022-05-03T08:15:22.335253Z",
     "shell.execute_reply": "2022-05-03T08:15:22.334336Z",
     "shell.execute_reply.started": "2022-05-03T08:15:13.185354Z"
    },
    "id": "0NmMdkZO8R6q"
   },
   "outputs": [
    {
     "name": "stdout",
     "output_type": "stream",
     "text": [
      "\u001b[33mWARNING: Running pip as the 'root' user can result in broken permissions and conflicting behaviour with the system package manager. It is recommended to use a virtual environment instead: https://pip.pypa.io/warnings/venv\u001b[0m\n",
      "Note: you may need to restart the kernel to use updated packages.\n",
      "\u001b[33mWARNING: Running pip as the 'root' user can result in broken permissions and conflicting behaviour with the system package manager. It is recommended to use a virtual environment instead: https://pip.pypa.io/warnings/venv\u001b[0m\n",
      "Note: you may need to restart the kernel to use updated packages.\n",
      "\u001b[33mWARNING: Running pip as the 'root' user can result in broken permissions and conflicting behaviour with the system package manager. It is recommended to use a virtual environment instead: https://pip.pypa.io/warnings/venv\u001b[0m\n",
      "Note: you may need to restart the kernel to use updated packages.\n"
     ]
    }
   ],
   "source": [
    "%pip install -q transformers\n",
    "%pip install -q seaborn\n",
    "%pip install -q nltk"
   ]
  },
  {
   "cell_type": "code",
   "execution_count": 2,
   "metadata": {
    "execution": {
     "iopub.execute_input": "2022-05-03T08:15:22.337195Z",
     "iopub.status.busy": "2022-05-03T08:15:22.337007Z",
     "iopub.status.idle": "2022-05-03T08:15:22.753590Z",
     "shell.execute_reply": "2022-05-03T08:15:22.752558Z",
     "shell.execute_reply.started": "2022-05-03T08:15:22.337172Z"
    }
   },
   "outputs": [
    {
     "name": "stdout",
     "output_type": "stream",
     "text": [
      "Sinas-Distil-GPT2.ipynb  WIP-GPT2-v2.ipynb  instance_type.png\n",
      "WIP-Distil-GPT2.ipynb\t checkpoints\t    quick_start_pytorch.ipynb\n"
     ]
    }
   ],
   "source": [
    "!ls"
   ]
  },
  {
   "cell_type": "code",
   "execution_count": 3,
   "metadata": {
    "colab": {
     "base_uri": "https://localhost:8080/"
    },
    "execution": {
     "iopub.execute_input": "2022-05-03T08:15:22.756512Z",
     "iopub.status.busy": "2022-05-03T08:15:22.755606Z",
     "iopub.status.idle": "2022-05-03T08:15:28.362548Z",
     "shell.execute_reply": "2022-05-03T08:15:28.361732Z",
     "shell.execute_reply.started": "2022-05-03T08:15:22.756452Z"
    },
    "id": "JCCeyhuDHdOu",
    "outputId": "04fd47c0-a507-415e-fbb8-8b98db92d48d"
   },
   "outputs": [
    {
     "name": "stderr",
     "output_type": "stream",
     "text": [
      "[nltk_data] Downloading package punkt to /root/nltk_data...\n",
      "[nltk_data]   Unzipping tokenizers/punkt.zip.\n"
     ]
    },
    {
     "data": {
      "text/plain": [
       "True"
      ]
     },
     "execution_count": 3,
     "metadata": {},
     "output_type": "execute_result"
    }
   ],
   "source": [
    "import os\n",
    "import json\n",
    "import time\n",
    "import datetime\n",
    "\n",
    "import pandas as pd\n",
    "import seaborn as sns\n",
    "import numpy as np\n",
    "import random\n",
    "\n",
    "import matplotlib.pyplot as plt\n",
    "#% matplotlib inline\n",
    "\n",
    "import torch\n",
    "from torch.utils.data import Dataset, DataLoader, random_split, RandomSampler, SequentialSampler\n",
    "torch.manual_seed(42)\n",
    "\n",
    "from transformers import GPT2LMHeadModel,  GPT2Tokenizer, GPT2Config, GPT2LMHeadModel\n",
    "from transformers import AdamW, get_linear_schedule_with_warmup\n",
    "\n",
    "import nltk\n",
    "nltk.download('punkt')"
   ]
  },
  {
   "cell_type": "markdown",
   "metadata": {
    "id": "ZfdCML6Parvv"
   },
   "source": [
    "# Create Training Set"
   ]
  },
  {
   "cell_type": "code",
   "execution_count": 4,
   "metadata": {
    "colab": {
     "base_uri": "https://localhost:8080/"
    },
    "execution": {
     "iopub.execute_input": "2022-05-03T08:15:28.364710Z",
     "iopub.status.busy": "2022-05-03T08:15:28.364531Z",
     "iopub.status.idle": "2022-05-03T08:15:28.369006Z",
     "shell.execute_reply": "2022-05-03T08:15:28.368266Z",
     "shell.execute_reply.started": "2022-05-03T08:15:28.364686Z"
    },
    "id": "m2zIw885FuyS",
    "outputId": "a8792974-b967-4240-8094-aa4d202c9a9b"
   },
   "outputs": [],
   "source": [
    "wikihow_path = '/datasets/wikihow-small-json'\n",
    "#wikihow_file = 'wikihowAll.csv' # Large dataset\n",
    "wikihow_file = 'wikihow_dataset.json'\n",
    "wikihow_open = os.path.join(wikihow_path, wikihow_file)\n"
   ]
  },
  {
   "cell_type": "code",
   "execution_count": 5,
   "metadata": {
    "colab": {
     "base_uri": "https://localhost:8080/"
    },
    "execution": {
     "iopub.execute_input": "2022-05-03T08:15:28.370025Z",
     "iopub.status.busy": "2022-05-03T08:15:28.369862Z",
     "iopub.status.idle": "2022-05-03T08:15:29.136877Z",
     "shell.execute_reply": "2022-05-03T08:15:29.136219Z",
     "shell.execute_reply.started": "2022-05-03T08:15:28.370004Z"
    },
    "id": "zIc1CcekHWdS",
    "outputId": "a2731714-8d7b-4777-803e-a0ef11918b38"
   },
   "outputs": [
    {
     "data": {
      "text/plain": [
       "(1878, 3)"
      ]
     },
     "execution_count": 5,
     "metadata": {},
     "output_type": "execute_result"
    }
   ],
   "source": [
    "# Read file\n",
    "with open(wikihow_open) as json_file:\n",
    "    data = json.load(json_file)\n",
    "\n",
    "# load into a data frame\n",
    "df = pd.DataFrame.from_records(data[\"data\"])\n",
    "df.shape"
   ]
  },
  {
   "cell_type": "code",
   "execution_count": 6,
   "metadata": {
    "colab": {
     "base_uri": "https://localhost:8080/",
     "height": 267
    },
    "execution": {
     "iopub.execute_input": "2022-05-03T08:15:29.138395Z",
     "iopub.status.busy": "2022-05-03T08:15:29.137982Z",
     "iopub.status.idle": "2022-05-03T08:15:29.160723Z",
     "shell.execute_reply": "2022-05-03T08:15:29.160108Z",
     "shell.execute_reply.started": "2022-05-03T08:15:29.138370Z"
    },
    "id": "pygCY5j9Vayv",
    "outputId": "01c01ab1-d43b-4caa-e065-e1b38c00ce96"
   },
   "outputs": [
    {
     "data": {
      "text/html": [
       "<div>\n",
       "<style scoped>\n",
       "    .dataframe tbody tr th:only-of-type {\n",
       "        vertical-align: middle;\n",
       "    }\n",
       "\n",
       "    .dataframe tbody tr th {\n",
       "        vertical-align: top;\n",
       "    }\n",
       "\n",
       "    .dataframe thead th {\n",
       "        text-align: right;\n",
       "    }\n",
       "</style>\n",
       "<table border=\"1\" class=\"dataframe\">\n",
       "  <thead>\n",
       "    <tr style=\"text-align: right;\">\n",
       "      <th></th>\n",
       "      <th>task</th>\n",
       "      <th>solution</th>\n",
       "      <th>summary</th>\n",
       "    </tr>\n",
       "  </thead>\n",
       "  <tbody>\n",
       "    <tr>\n",
       "      <th>0</th>\n",
       "      <td>How to Attract Birds to Your Garden</td>\n",
       "      <td>In order to decide on suitable feeders, you sh...</td>\n",
       "      <td>Choose appropriate feeders.\\nProvide a variety...</td>\n",
       "    </tr>\n",
       "    <tr>\n",
       "      <th>1</th>\n",
       "      <td>How to Grow Biennial Vegetables</td>\n",
       "      <td>Biennials should be planted in the late spring...</td>\n",
       "      <td>Wait to plant until after the final frost to p...</td>\n",
       "    </tr>\n",
       "    <tr>\n",
       "      <th>2</th>\n",
       "      <td>How to Sew a Blazer</td>\n",
       "      <td>Most patterns tell you the difficulty level fo...</td>\n",
       "      <td>Download a pattern or buy a printed pattern fr...</td>\n",
       "    </tr>\n",
       "    <tr>\n",
       "      <th>3</th>\n",
       "      <td>How to Sew Patches</td>\n",
       "      <td>It is important to make sure that your patch m...</td>\n",
       "      <td>Get a patch that matches the fabric.\\nSnip awa...</td>\n",
       "    </tr>\n",
       "    <tr>\n",
       "      <th>4</th>\n",
       "      <td>How to Pickle Onions</td>\n",
       "      <td>Red onions go great for this recipe; with thei...</td>\n",
       "      <td>Halve, peel, and slice the onion.\\nHeat some w...</td>\n",
       "    </tr>\n",
       "  </tbody>\n",
       "</table>\n",
       "</div>"
      ],
      "text/plain": [
       "                                  task  \\\n",
       "0  How to Attract Birds to Your Garden   \n",
       "1      How to Grow Biennial Vegetables   \n",
       "2                  How to Sew a Blazer   \n",
       "3                   How to Sew Patches   \n",
       "4                 How to Pickle Onions   \n",
       "\n",
       "                                            solution  \\\n",
       "0  In order to decide on suitable feeders, you sh...   \n",
       "1  Biennials should be planted in the late spring...   \n",
       "2  Most patterns tell you the difficulty level fo...   \n",
       "3  It is important to make sure that your patch m...   \n",
       "4  Red onions go great for this recipe; with thei...   \n",
       "\n",
       "                                             summary  \n",
       "0  Choose appropriate feeders.\\nProvide a variety...  \n",
       "1  Wait to plant until after the final frost to p...  \n",
       "2  Download a pattern or buy a printed pattern fr...  \n",
       "3  Get a patch that matches the fabric.\\nSnip awa...  \n",
       "4  Halve, peel, and slice the onion.\\nHeat some w...  "
      ]
     },
     "execution_count": 6,
     "metadata": {},
     "output_type": "execute_result"
    }
   ],
   "source": [
    "# Clean Data\n",
    "df['task'] = df['task'].astype(str)\n",
    "df['solution'] = df['solution'].astype(str)\n",
    "df['summary'] = df['summary'].astype(str)\n",
    "\n",
    "# drop NA's\n",
    "df = df.dropna()\n",
    "df.head()"
   ]
  },
  {
   "cell_type": "code",
   "execution_count": 7,
   "metadata": {
    "colab": {
     "base_uri": "https://localhost:8080/",
     "height": 336
    },
    "execution": {
     "iopub.execute_input": "2022-05-03T08:15:29.161892Z",
     "iopub.status.busy": "2022-05-03T08:15:29.161656Z",
     "iopub.status.idle": "2022-05-03T08:15:29.191056Z",
     "shell.execute_reply": "2022-05-03T08:15:29.190188Z",
     "shell.execute_reply.started": "2022-05-03T08:15:29.161867Z"
    },
    "id": "usm8MuKvVKDS",
    "outputId": "95f1a145-e0d5-4830-b9b5-4661651dbe6a"
   },
   "outputs": [
    {
     "data": {
      "text/html": [
       "<div>\n",
       "<style scoped>\n",
       "    .dataframe tbody tr th:only-of-type {\n",
       "        vertical-align: middle;\n",
       "    }\n",
       "\n",
       "    .dataframe tbody tr th {\n",
       "        vertical-align: top;\n",
       "    }\n",
       "\n",
       "    .dataframe thead th {\n",
       "        text-align: right;\n",
       "    }\n",
       "</style>\n",
       "<table border=\"1\" class=\"dataframe\">\n",
       "  <thead>\n",
       "    <tr style=\"text-align: right;\">\n",
       "      <th></th>\n",
       "      <th>task</th>\n",
       "      <th>solution</th>\n",
       "      <th>summary</th>\n",
       "    </tr>\n",
       "  </thead>\n",
       "  <tbody>\n",
       "    <tr>\n",
       "      <th>0</th>\n",
       "      <td>[WP]How to Attract Birds to Your Garden</td>\n",
       "      <td>\\n[RESPONSE]In order to decide on suitable fee...</td>\n",
       "      <td>Choose appropriate feeders.\\nProvide a variety...</td>\n",
       "    </tr>\n",
       "    <tr>\n",
       "      <th>1</th>\n",
       "      <td>[WP]How to Grow Biennial Vegetables</td>\n",
       "      <td>\\n[RESPONSE]Biennials should be planted in the...</td>\n",
       "      <td>Wait to plant until after the final frost to p...</td>\n",
       "    </tr>\n",
       "    <tr>\n",
       "      <th>2</th>\n",
       "      <td>[WP]How to Sew a Blazer</td>\n",
       "      <td>\\n[RESPONSE]Most patterns tell you the difficu...</td>\n",
       "      <td>Download a pattern or buy a printed pattern fr...</td>\n",
       "    </tr>\n",
       "    <tr>\n",
       "      <th>3</th>\n",
       "      <td>[WP]How to Sew Patches</td>\n",
       "      <td>\\n[RESPONSE]It is important to make sure that ...</td>\n",
       "      <td>Get a patch that matches the fabric.\\nSnip awa...</td>\n",
       "    </tr>\n",
       "    <tr>\n",
       "      <th>4</th>\n",
       "      <td>[WP]How to Pickle Onions</td>\n",
       "      <td>\\n[RESPONSE]Red onions go great for this recip...</td>\n",
       "      <td>Halve, peel, and slice the onion.\\nHeat some w...</td>\n",
       "    </tr>\n",
       "  </tbody>\n",
       "</table>\n",
       "</div>"
      ],
      "text/plain": [
       "                                      task  \\\n",
       "0  [WP]How to Attract Birds to Your Garden   \n",
       "1      [WP]How to Grow Biennial Vegetables   \n",
       "2                  [WP]How to Sew a Blazer   \n",
       "3                   [WP]How to Sew Patches   \n",
       "4                 [WP]How to Pickle Onions   \n",
       "\n",
       "                                            solution  \\\n",
       "0  \\n[RESPONSE]In order to decide on suitable fee...   \n",
       "1  \\n[RESPONSE]Biennials should be planted in the...   \n",
       "2  \\n[RESPONSE]Most patterns tell you the difficu...   \n",
       "3  \\n[RESPONSE]It is important to make sure that ...   \n",
       "4  \\n[RESPONSE]Red onions go great for this recip...   \n",
       "\n",
       "                                             summary  \n",
       "0  Choose appropriate feeders.\\nProvide a variety...  \n",
       "1  Wait to plant until after the final frost to p...  \n",
       "2  Download a pattern or buy a printed pattern fr...  \n",
       "3  Get a patch that matches the fabric.\\nSnip awa...  \n",
       "4  Halve, peel, and slice the onion.\\nHeat some w...  "
      ]
     },
     "execution_count": 7,
     "metadata": {},
     "output_type": "execute_result"
    }
   ],
   "source": [
    "# Add marks for original promp and repsonse marks\n",
    "df['task'] = '[WP]' + df['task'] # + '?'\n",
    "df['solution'] = '\\n[RESPONSE]' + df['solution']\n",
    "df.head()"
   ]
  },
  {
   "cell_type": "code",
   "execution_count": 8,
   "metadata": {
    "colab": {
     "base_uri": "https://localhost:8080/"
    },
    "execution": {
     "iopub.execute_input": "2022-05-03T08:15:29.192684Z",
     "iopub.status.busy": "2022-05-03T08:15:29.192359Z",
     "iopub.status.idle": "2022-05-03T08:15:29.217270Z",
     "shell.execute_reply": "2022-05-03T08:15:29.216237Z",
     "shell.execute_reply.started": "2022-05-03T08:15:29.192649Z"
    },
    "id": "_U3m6wr3Ahzt",
    "outputId": "268d8b7c-f738-45b1-9595-1d4ae0a49ce8"
   },
   "outputs": [
    {
     "data": {
      "text/plain": [
       "0    [WP]How to Attract Birds to Your Garden\\n[RESP...\n",
       "1    [WP]How to Grow Biennial Vegetables\\n[RESPONSE...\n",
       "2    [WP]How to Sew a Blazer\\n[RESPONSE]Most patter...\n",
       "3    [WP]How to Sew Patches\\n[RESPONSE]It is import...\n",
       "4    [WP]How to Pickle Onions\\n[RESPONSE]Red onions...\n",
       "dtype: object"
      ]
     },
     "execution_count": 8,
     "metadata": {},
     "output_type": "execute_result"
    }
   ],
   "source": [
    "# merge into one\n",
    "howtos = df[\"task\"] + df[\"solution\"] # \\n vs ' ' ???\n",
    "#howtos = howtos.str.replace('\"', '').str.replace('\\n,\\n', '').str.replace('``', '').str.replace(',,', ',')\n",
    "\n",
    "howtos.head()\n",
    "\n"
   ]
  },
  {
   "cell_type": "code",
   "execution_count": 9,
   "metadata": {
    "execution": {
     "iopub.execute_input": "2022-05-03T08:15:29.219094Z",
     "iopub.status.busy": "2022-05-03T08:15:29.218824Z",
     "iopub.status.idle": "2022-05-03T08:15:29.224971Z",
     "shell.execute_reply": "2022-05-03T08:15:29.224038Z",
     "shell.execute_reply.started": "2022-05-03T08:15:29.219059Z"
    },
    "id": "om2bnDmYogf3"
   },
   "outputs": [],
   "source": [
    "small_sample = howtos.sample(300)"
   ]
  },
  {
   "cell_type": "code",
   "execution_count": 10,
   "metadata": {
    "colab": {
     "base_uri": "https://localhost:8080/"
    },
    "execution": {
     "iopub.execute_input": "2022-05-03T08:15:29.229201Z",
     "iopub.status.busy": "2022-05-03T08:15:29.229009Z",
     "iopub.status.idle": "2022-05-03T08:15:29.245599Z",
     "shell.execute_reply": "2022-05-03T08:15:29.244610Z",
     "shell.execute_reply.started": "2022-05-03T08:15:29.229178Z"
    },
    "id": "WLnEkvPgooTf",
    "outputId": "3b0bf9b1-e818-48c3-94a5-736939aafcee"
   },
   "outputs": [
    {
     "data": {
      "text/plain": [
       "1424    [WP]How to Keep Weeds Out of Your Vegetable Ga...\n",
       "207     [WP]How to Grow Catnip\\n[RESPONSE]Local home a...\n",
       "457     [WP]How to Grow Cinnamon\\n[RESPONSE]Cinnamon t...\n",
       "1713    [WP]How to Clean a Cuisinart Coffee Maker\\n[RE...\n",
       "632     [WP]How to Create a Bee%E2%80%90Friendly Garde...\n",
       "                              ...                        \n",
       "1796    [WP]How to Start a Sewing Machine\\n[RESPONSE]T...\n",
       "1271    [WP]How to Grow Fenugreek\\n[RESPONSE]Before yo...\n",
       "1140    [WP]How to Create a Photo Slideshow with Power...\n",
       "931     [WP]How to Create Photo Albums on an iPad\\n[RE...\n",
       "637     [WP]How to Turn a Girl On\\n[RESPONSE]Breath is...\n",
       "Length: 300, dtype: object"
      ]
     },
     "execution_count": 10,
     "metadata": {},
     "output_type": "execute_result"
    }
   ],
   "source": [
    "replace_dict = {'[WP]': '!'}\n",
    "#small_sample = pd.Series(small_sample)\n",
    "small_sample.str.replace('\"', '').str.replace('\\n,\\n', '').str.replace('``', '').str.replace(',,', ',')\n"
   ]
  },
  {
   "cell_type": "code",
   "execution_count": 11,
   "metadata": {
    "execution": {
     "iopub.execute_input": "2022-05-03T08:15:29.247900Z",
     "iopub.status.busy": "2022-05-03T08:15:29.247102Z",
     "iopub.status.idle": "2022-05-03T08:15:29.255409Z",
     "shell.execute_reply": "2022-05-03T08:15:29.254316Z",
     "shell.execute_reply.started": "2022-05-03T08:15:29.247847Z"
    },
    "id": "KwMdcjQJfoFk"
   },
   "outputs": [],
   "source": [
    "def clean_text(text):\n",
    "    #text = text.replace('\\n','')\n",
    "    text = text.replace('``', '')\n",
    "    text = text.replace('\"', '')\n",
    "    text = text.replace(\"\\n,\\n\", \"\").replace(\".,\", \".\").replace('\"', '').replace('\\n','')\n",
    "    text = text.replace(\" ,\", \",\").replace(\" .\", \".\").replace(\" %\", \"%\")\n",
    "    text = text.replace(\" - \", \"-\").replace(\" : \", \":\").replace(\" / \", \"/\")\n",
    "    text = text.replace(\"( \", \"(\").replace(\" )\", \")\")\n",
    "    #text = text.replace(\"`` \", \"\\\"\").replace(\" ''\", \"\\\"\")\n",
    "    text = text.replace(\" 's\", \"'s\").replace(\"s ' \", \"s' \")\n",
    "    return text"
   ]
  },
  {
   "cell_type": "markdown",
   "metadata": {
    "id": "hQ1oK0kXaV5p"
   },
   "source": [
    "check length"
   ]
  },
  {
   "cell_type": "code",
   "execution_count": 12,
   "metadata": {
    "colab": {
     "base_uri": "https://localhost:8080/",
     "height": 337
    },
    "execution": {
     "iopub.execute_input": "2022-05-03T08:15:29.257181Z",
     "iopub.status.busy": "2022-05-03T08:15:29.256960Z",
     "iopub.status.idle": "2022-05-03T08:15:31.841916Z",
     "shell.execute_reply": "2022-05-03T08:15:31.841090Z",
     "shell.execute_reply.started": "2022-05-03T08:15:29.257158Z"
    },
    "id": "cKsH2sU0OCQA",
    "outputId": "d3c085ff-03f4-4a3e-ea2e-a1b3cfc16f05"
   },
   "outputs": [
    {
     "name": "stderr",
     "output_type": "stream",
     "text": [
      "/opt/conda/lib/python3.8/site-packages/seaborn/distributions.py:2619: FutureWarning: `distplot` is a deprecated function and will be removed in a future version. Please adapt your code to use either `displot` (a figure-level function with similar flexibility) or `histplot` (an axes-level function for histograms).\n",
      "  warnings.warn(msg, FutureWarning)\n"
     ]
    },
    {
     "data": {
      "text/plain": [
       "<AxesSubplot:ylabel='Density'>"
      ]
     },
     "execution_count": 12,
     "metadata": {},
     "output_type": "execute_result"
    },
    {
     "data": {
      "image/png": "[encoded data removed]",
      "text/plain": [
       "<Figure size 432x288 with 1 Axes>"
      ]
     },
     "metadata": {
      "needs_background": "light"
     },
     "output_type": "display_data"
    }
   ],
   "source": [
    "doc_lengths = []\n",
    "\n",
    "for howto in howtos.sample(n=300):\n",
    "\n",
    "    # get rough token count distribution\n",
    "    tokens = nltk.word_tokenize(howto)\n",
    "\n",
    "    doc_lengths.append(len(tokens))\n",
    "\n",
    "doc_lengths = np.array(doc_lengths)\n",
    "\n",
    "sns.distplot(doc_lengths)"
   ]
  },
  {
   "cell_type": "code",
   "execution_count": 13,
   "metadata": {
    "colab": {
     "base_uri": "https://localhost:8080/"
    },
    "execution": {
     "iopub.execute_input": "2022-05-03T08:15:31.843125Z",
     "iopub.status.busy": "2022-05-03T08:15:31.842936Z",
     "iopub.status.idle": "2022-05-03T08:15:31.848688Z",
     "shell.execute_reply": "2022-05-03T08:15:31.847872Z",
     "shell.execute_reply.started": "2022-05-03T08:15:31.843099Z"
    },
    "id": "u6P6bTItJEIj",
    "outputId": "35b14f67-7d59-4e04-b27b-26509658f1a4"
   },
   "outputs": [
    {
     "data": {
      "text/plain": [
       "0.7366666666666667"
      ]
     },
     "execution_count": 13,
     "metadata": {},
     "output_type": "execute_result"
    }
   ],
   "source": [
    "# the max token length   \n",
    "len(doc_lengths[doc_lengths > 768])/len(doc_lengths)"
   ]
  },
  {
   "cell_type": "code",
   "execution_count": 14,
   "metadata": {
    "colab": {
     "base_uri": "https://localhost:8080/"
    },
    "execution": {
     "iopub.execute_input": "2022-05-03T08:15:31.850077Z",
     "iopub.status.busy": "2022-05-03T08:15:31.849845Z",
     "iopub.status.idle": "2022-05-03T08:15:31.855701Z",
     "shell.execute_reply": "2022-05-03T08:15:31.855014Z",
     "shell.execute_reply.started": "2022-05-03T08:15:31.850050Z"
    },
    "id": "63t_69HjlwAj",
    "outputId": "bd5f7857-0571-4d28-f75d-e892c13485da"
   },
   "outputs": [
    {
     "data": {
      "text/plain": [
       "1189.71"
      ]
     },
     "execution_count": 14,
     "metadata": {},
     "output_type": "execute_result"
    }
   ],
   "source": [
    "np.average(doc_lengths)"
   ]
  },
  {
   "cell_type": "markdown",
   "metadata": {
    "id": "cMml12FJGjPW"
   },
   "source": [
    "# GPT2 Tokenizer"
   ]
  },
  {
   "cell_type": "code",
   "execution_count": 15,
   "metadata": {
    "colab": {
     "base_uri": "https://localhost:8080/",
     "height": 150,
     "referenced_widgets": [
      "2e75b97535a1475ea4af4b286b915bbc",
      "ca9f1c38a7ce4a10b1b098b48a917560",
      "dcf62af5d93a4c49a64820c3a75852a8",
      "79af9d1f1e964011b868ecdcaacae50d",
      "0416273103dd499f8cd68601eb9c0814",
      "07dc2ac5b4574db08209c96e188a89df",
      "1b84aa7f26c84065b0d383890a9503ed",
      "a362dcec7ed0483fbc8bd417b56ad001",
      "85c65bfe01124a39a4a08e637fddc9ca",
      "8f94922010be4163abb981a1a87ab274",
      "e4f54b4de20d443c9425cca23ed1cfdf",
      "883fccbbc07c436aba1bd08d28c65bd1",
      "e51902ecd876466da2e70d3aeb4e11ae",
      "a263f61d0a6e48209c0cfe48203cbfd9",
      "17eece06f7764918b7bff14f39a47abc",
      "31fcedb8dd33473bb35602647978c19a",
      "848fcdc25dca45598173929ad782cdd4",
      "5578b19a5d2a408b85b13f6b81464cef",
      "6f392bf107554b1f822728805d0ea74e",
      "abf5e580fd9f4a38a71edcd41780c263",
      "23348a3b002948c7b694635afbf1db17",
      "f69fa6c5fbce464fb86cb512cbdd8f27",
      "1d011f636a314cb683a462a67ea54fd7",
      "028d440a3fc04e189296f4ba054b7094",
      "0c13fbef4fe14d5b93d2431cfa4eae9a",
      "2fc0721c76f44c7da932bc14536edd52",
      "a505d0045c4d4eb28111a4fd446ef38d",
      "018d89c9be074abda46e13a8f5d53bc6",
      "1a37d54ad02c4197b284cba999a20f46",
      "ec4844d9cb114bfbab30c0a709931c52",
      "61810713a8f0477992609efd05a452d5",
      "34bace3a3b3846b79cf944381636074b",
      "5eef78837131451196cf1ae451a156b6"
     ]
    },
    "execution": {
     "iopub.execute_input": "2022-05-03T08:15:31.857229Z",
     "iopub.status.busy": "2022-05-03T08:15:31.857030Z",
     "iopub.status.idle": "2022-05-03T08:15:32.990540Z",
     "shell.execute_reply": "2022-05-03T08:15:32.989773Z",
     "shell.execute_reply.started": "2022-05-03T08:15:31.857205Z"
    },
    "id": "Z474sSC6oe7A",
    "outputId": "ba1c8b64-0208-447b-f296-23b63d1834aa"
   },
   "outputs": [
    {
     "data": {
      "application/vnd.jupyter.widget-view+json": {
       "model_id": "ef3a6ebe291f4bb7b87e87dd128aadcf",
       "version_major": 2,
       "version_minor": 0
      },
      "text/plain": [
       "Downloading:   0%|          | 0.00/0.99M [00:00<?, ?B/s]"
      ]
     },
     "metadata": {},
     "output_type": "display_data"
    },
    {
     "data": {
      "application/vnd.jupyter.widget-view+json": {
       "model_id": "b8b41fa90f24428d8f25cc89d1dff6d1",
       "version_major": 2,
       "version_minor": 0
      },
      "text/plain": [
       "Downloading:   0%|          | 0.00/446k [00:00<?, ?B/s]"
      ]
     },
     "metadata": {},
     "output_type": "display_data"
    },
    {
     "data": {
      "application/vnd.jupyter.widget-view+json": {
       "model_id": "280621af2bd34e30b0ab6d96a98d7058",
       "version_major": 2,
       "version_minor": 0
      },
      "text/plain": [
       "Downloading:   0%|          | 0.00/665 [00:00<?, ?B/s]"
      ]
     },
     "metadata": {},
     "output_type": "display_data"
    },
    {
     "name": "stderr",
     "output_type": "stream",
     "text": [
      "Special tokens have been added in the vocabulary, make sure the associated word embeddings are fine-tuned or trained.\n"
     ]
    }
   ],
   "source": [
    "# NOTE: EMBEDDING SIZE NOT LARGE ENOUGH!!! -- SHOULD USE LARGER MODEL\n",
    "# Load the GPT tokenizer.\n",
    "tokenizer = GPT2Tokenizer.from_pretrained('gpt2', bos_token='<|startoftext|>', eos_token='<|endoftext|>', pad_token='<|pad|>') #gpt2-medium\n"
   ]
  },
  {
   "cell_type": "markdown",
   "metadata": {
    "id": "ex5O1eV-Pfct"
   },
   "source": [
    "# PyTorch Datasets & Dataloaders\n"
   ]
  },
  {
   "cell_type": "markdown",
   "metadata": {
    "id": "3lgZoOYkxZfx"
   },
   "source": [
    "Testing I managed to run it in 4 using Paperspace PRO machines"
   ]
  },
  {
   "cell_type": "code",
   "execution_count": 16,
   "metadata": {
    "execution": {
     "iopub.execute_input": "2022-05-03T08:15:32.992165Z",
     "iopub.status.busy": "2022-05-03T08:15:32.991851Z",
     "iopub.status.idle": "2022-05-03T08:15:33.002230Z",
     "shell.execute_reply": "2022-05-03T08:15:33.001310Z",
     "shell.execute_reply.started": "2022-05-03T08:15:32.992127Z"
    },
    "id": "scqrzmqhV__z"
   },
   "outputs": [],
   "source": [
    "batch_size = 4"
   ]
  },
  {
   "cell_type": "markdown",
   "metadata": {
    "id": "lqGMee7Isfpx"
   },
   "source": []
  },
  {
   "cell_type": "code",
   "execution_count": 17,
   "metadata": {
    "execution": {
     "iopub.execute_input": "2022-05-03T08:15:33.004149Z",
     "iopub.status.busy": "2022-05-03T08:15:33.003824Z",
     "iopub.status.idle": "2022-05-03T08:15:33.014673Z",
     "shell.execute_reply": "2022-05-03T08:15:33.013719Z",
     "shell.execute_reply.started": "2022-05-03T08:15:33.004111Z"
    },
    "id": "U_XJVIetKN-h"
   },
   "outputs": [],
   "source": [
    "def clean_text(text):\n",
    "    text = text.replace('\\n\\n\\n\\n','\\n').replace('\\n\\n\\n','\\n').replace('\\n ','\\n')\n",
    "    text = text.replace('``', '').replace('.;', '.')\n",
    "    text = text.replace('\"', '').replace(\"\\n,\", \"\").replace(\"\\n, \", \"\")\n",
    "    text = text.replace(\"\\n,\\n\", \"\").replace(\".,\", \".\").replace('\"', '').replace('\\n;\\n','')\n",
    "    text = text.replace(\" ,\", \",\").replace(\" .\", \".\").replace(\" %\", \"%\")\n",
    "    text = text.replace(\" - \", \"-\").replace(\" : \", \":\").replace(\" / \", \"/\")\n",
    "    text = text.replace(\"( \", \"(\").replace(\" )\", \")\")\n",
    "    #text = text.replace(\"`` \", \"\\\"\").replace(\" ''\", \"\\\"\")\n",
    "    text = text.replace(\" 's\", \"'s\").replace(\"s ' \", \"s' \")\n",
    "    return text\n",
    "    \n",
    "class GPT2Dataset(Dataset):\n",
    "\n",
    "  def __init__(self, txt_list, tokenizer, gpt2_type=\"gpt2\", max_length=1024):\n",
    "\n",
    "    self.tokenizer = tokenizer\n",
    "    self.input_ids = []\n",
    "    self.attn_masks = []\n",
    "\n",
    "    for txt in txt_list:\n",
    "    \n",
    "      text = txt #= clean_text(txt)\n",
    "      encodings_dict = tokenizer('<|startoftext|>'+ text + '<|endoftext|>', truncation=True, max_length=max_length, padding=\"max_length\")\n",
    "\n",
    "      self.input_ids.append(torch.tensor(encodings_dict['input_ids']))\n",
    "      self.attn_masks.append(torch.tensor(encodings_dict['attention_mask']))\n",
    "    \n",
    "  def __len__(self):\n",
    "    return len(self.input_ids)\n",
    "\n",
    "  def __getitem__(self, idx):\n",
    "    return self.input_ids[idx], self.attn_masks[idx] "
   ]
  },
  {
   "cell_type": "code",
   "execution_count": 18,
   "metadata": {
    "colab": {
     "background_save": true
    },
    "execution": {
     "iopub.execute_input": "2022-05-03T08:15:33.016433Z",
     "iopub.status.busy": "2022-05-03T08:15:33.016154Z",
     "iopub.status.idle": "2022-05-03T08:15:49.167240Z",
     "shell.execute_reply": "2022-05-03T08:15:49.166407Z",
     "shell.execute_reply.started": "2022-05-03T08:15:33.016398Z"
    },
    "id": "Xza_O1_rD7yh",
    "outputId": "9797bd1d-6d51-480a-b159-93f2b3553779"
   },
   "outputs": [
    {
     "name": "stdout",
     "output_type": "stream",
     "text": [
      "1,502 training samples\n",
      "  376 validation samples\n"
     ]
    }
   ],
   "source": [
    "dataset = GPT2Dataset(howtos, tokenizer, max_length=1024)\n",
    "\n",
    "# Split into training and validation sets\n",
    "train_size = int(0.8 * len(dataset))\n",
    "val_size = len(dataset) - train_size\n",
    "\n",
    "train_dataset, val_dataset = random_split(dataset, [train_size, val_size])\n",
    "\n",
    "print('{:>5,} training samples'.format(train_size))\n",
    "print('{:>5,} validation samples'.format(val_size))"
   ]
  },
  {
   "cell_type": "code",
   "execution_count": 19,
   "metadata": {
    "colab": {
     "background_save": true
    },
    "execution": {
     "iopub.execute_input": "2022-05-03T08:15:49.168402Z",
     "iopub.status.busy": "2022-05-03T08:15:49.168199Z",
     "iopub.status.idle": "2022-05-03T08:15:49.173028Z",
     "shell.execute_reply": "2022-05-03T08:15:49.172266Z",
     "shell.execute_reply.started": "2022-05-03T08:15:49.168378Z"
    },
    "id": "x0WeP5PREUuy"
   },
   "outputs": [],
   "source": [
    "# Create the DataLoaders for our training and validation datasets.\n",
    "# We'll take training samples in random order. \n",
    "train_dataloader = DataLoader(\n",
    "            train_dataset,  # The training samples.\n",
    "            sampler = RandomSampler(train_dataset), # Select batches randomly\n",
    "            batch_size = batch_size # Trains with this batch size.\n",
    "        )\n",
    "\n",
    "# For validation the order doesn't matter, so we'll just read them sequentially.\n",
    "validation_dataloader = DataLoader(\n",
    "            val_dataset, # The validation samples.\n",
    "            sampler = SequentialSampler(val_dataset), # Pull out batches sequentially.\n",
    "            batch_size = batch_size # Evaluate with this batch size.\n",
    "        )"
   ]
  },
  {
   "cell_type": "markdown",
   "metadata": {
    "id": "D6TKgyUzPIQc"
   },
   "source": [
    "# Fine-tune"
   ]
  },
  {
   "cell_type": "code",
   "execution_count": 20,
   "metadata": {
    "colab": {
     "background_save": true,
     "referenced_widgets": [
      "577ff64dcccf4a8c9cabd7e6e4d08fa7"
     ]
    },
    "execution": {
     "iopub.execute_input": "2022-05-03T08:15:49.174116Z",
     "iopub.status.busy": "2022-05-03T08:15:49.173932Z",
     "iopub.status.idle": "2022-05-03T08:16:20.491600Z",
     "shell.execute_reply": "2022-05-03T08:16:20.490810Z",
     "shell.execute_reply.started": "2022-05-03T08:15:49.174094Z"
    },
    "id": "gFsCTp_mporB",
    "outputId": "80e22234-0736-4cf0-e819-bb6c936bfe76"
   },
   "outputs": [
    {
     "data": {
      "application/vnd.jupyter.widget-view+json": {
       "model_id": "666be227221a42cdafbdf8039b6ef27f",
       "version_major": 2,
       "version_minor": 0
      },
      "text/plain": [
       "Downloading:   0%|          | 0.00/523M [00:00<?, ?B/s]"
      ]
     },
     "metadata": {},
     "output_type": "display_data"
    }
   ],
   "source": [
    "configuration = GPT2Config.from_pretrained('gpt2', output_hidden_states=False)\n",
    "\n",
    "# instantiate the model\n",
    "model = GPT2LMHeadModel.from_pretrained(\"gpt2\", config=configuration)\n",
    "\n",
    "# this step is necessary because I've added some tokens (bos_token, etc) to the embeddings\n",
    "# otherwise the tokenizer and model tensors won't match up\n",
    "model.resize_token_embeddings(len(tokenizer))\n",
    "\n",
    "# Tell pytorch to run this model on the GPU.\n",
    "device = torch.device(\"cuda\")\n",
    "model.cuda()\n",
    "\n",
    "# Set the seed value all over the place to make this reproducible.\n",
    "seed_val = 42\n",
    "\n",
    "random.seed(seed_val)\n",
    "np.random.seed(seed_val)\n",
    "torch.manual_seed(seed_val)\n",
    "torch.cuda.manual_seed_all(seed_val)"
   ]
  },
  {
   "cell_type": "code",
   "execution_count": 21,
   "metadata": {
    "colab": {
     "background_save": true
    },
    "execution": {
     "iopub.execute_input": "2022-05-03T08:16:20.492929Z",
     "iopub.status.busy": "2022-05-03T08:16:20.492742Z",
     "iopub.status.idle": "2022-05-03T08:16:20.497283Z",
     "shell.execute_reply": "2022-05-03T08:16:20.496614Z",
     "shell.execute_reply.started": "2022-05-03T08:16:20.492906Z"
    },
    "id": "pBEVY2PYSTXJ"
   },
   "outputs": [],
   "source": [
    "# some parameters I cooked up that work reasonably well\n",
    "\n",
    "epochs = 3\n",
    "learning_rate = 5e-4\n",
    "warmup_steps = 1e2\n",
    "epsilon = 1e-8\n",
    "check_path = './checkpoints'\n",
    "\n",
    "\n",
    "\n",
    "# this produces sample output every 100 steps\n",
    "sample_every = 100"
   ]
  },
  {
   "cell_type": "code",
   "execution_count": 22,
   "metadata": {
    "colab": {
     "background_save": true
    },
    "execution": {
     "iopub.execute_input": "2022-05-03T08:16:20.498382Z",
     "iopub.status.busy": "2022-05-03T08:16:20.498204Z",
     "iopub.status.idle": "2022-05-03T08:16:20.506925Z",
     "shell.execute_reply": "2022-05-03T08:16:20.506385Z",
     "shell.execute_reply.started": "2022-05-03T08:16:20.498360Z"
    },
    "id": "GLs72DuMODJO",
    "outputId": "eda84410-c3d3-484e-d29a-4cf70bb10437"
   },
   "outputs": [
    {
     "name": "stderr",
     "output_type": "stream",
     "text": [
      "/opt/conda/lib/python3.8/site-packages/transformers/optimization.py:306: FutureWarning: This implementation of AdamW is deprecated and will be removed in a future version. Use the PyTorch implementation torch.optim.AdamW instead, or set `no_deprecation_warning=True` to disable this warning\n",
      "  warnings.warn(\n"
     ]
    }
   ],
   "source": [
    "# Note: AdamW is a class from the huggingface library (as opposed to pytorch) \n",
    "optimizer = AdamW(model.parameters(),\n",
    "                  lr = learning_rate,\n",
    "                  eps = epsilon\n",
    "                )\n",
    "# checkpoint\n",
    "#torch.save({\n",
    "#            'epoch': epochs,\n",
    "#            'model_state_dict': model.state_dict(),\n",
    "#            'optimizer_state_dict': optimizer.state_dict(),\n",
    "#            'loss': LOSS,\n",
    "#            }, check_path)"
   ]
  },
  {
   "cell_type": "code",
   "execution_count": 23,
   "metadata": {
    "colab": {
     "background_save": true
    },
    "execution": {
     "iopub.execute_input": "2022-05-03T08:16:20.508044Z",
     "iopub.status.busy": "2022-05-03T08:16:20.507872Z",
     "iopub.status.idle": "2022-05-03T08:16:20.512439Z",
     "shell.execute_reply": "2022-05-03T08:16:20.511415Z",
     "shell.execute_reply.started": "2022-05-03T08:16:20.508023Z"
    },
    "id": "-p0upAhhRiIx"
   },
   "outputs": [],
   "source": [
    "# Total number of training steps is [number of batches] x [number of epochs]. \n",
    "# (Note that this is not the same as the number of training samples).\n",
    "total_steps = len(train_dataloader) * epochs\n",
    "\n",
    "# Create the learning rate scheduler.\n",
    "# This changes the learning rate as the training loop progresses\n",
    "scheduler = get_linear_schedule_with_warmup(optimizer, \n",
    "                                            num_warmup_steps = warmup_steps, \n",
    "                                            num_training_steps = total_steps)"
   ]
  },
  {
   "cell_type": "code",
   "execution_count": 24,
   "metadata": {
    "colab": {
     "background_save": true
    },
    "execution": {
     "iopub.execute_input": "2022-05-03T08:16:20.513595Z",
     "iopub.status.busy": "2022-05-03T08:16:20.513414Z",
     "iopub.status.idle": "2022-05-03T08:16:20.518514Z",
     "shell.execute_reply": "2022-05-03T08:16:20.517613Z",
     "shell.execute_reply.started": "2022-05-03T08:16:20.513573Z"
    },
    "id": "gpt6tR83keZD"
   },
   "outputs": [],
   "source": [
    "def format_time(elapsed):\n",
    "    return str(datetime.timedelta(seconds=int(round((elapsed)))))"
   ]
  },
  {
   "cell_type": "code",
   "execution_count": 25,
   "metadata": {
    "colab": {
     "background_save": true
    },
    "execution": {
     "iopub.execute_input": "2022-05-03T08:16:20.519565Z",
     "iopub.status.busy": "2022-05-03T08:16:20.519377Z",
     "iopub.status.idle": "2022-05-03T08:16:20.523831Z",
     "shell.execute_reply": "2022-05-03T08:16:20.522856Z",
     "shell.execute_reply.started": "2022-05-03T08:16:20.519545Z"
    },
    "id": "t3V39kXfh26d"
   },
   "outputs": [],
   "source": [
    "torch.cuda.empty_cache()"
   ]
  },
  {
   "cell_type": "code",
   "execution_count": 26,
   "metadata": {
    "colab": {
     "background_save": true
    },
    "execution": {
     "iopub.execute_input": "2022-05-03T08:16:20.524782Z",
     "iopub.status.busy": "2022-05-03T08:16:20.524621Z",
     "iopub.status.idle": "2022-05-03T08:17:12.851461Z",
     "shell.execute_reply": "2022-05-03T08:17:12.849953Z",
     "shell.execute_reply.started": "2022-05-03T08:16:20.524762Z"
    },
    "id": "vCPohrZ-CTWu",
    "outputId": "2837020b-0925-4101-d595-de214089239c"
   },
   "outputs": [
    {
     "name": "stdout",
     "output_type": "stream",
     "text": [
      "\n",
      "======== Epoch 1 / 4 ========\n",
      "Training...\n"
     ]
    },
    {
     "ename": "KeyboardInterrupt",
     "evalue": "",
     "output_type": "error",
     "traceback": [
      "\u001b[0;31m---------------------------------------------------------------------------\u001b[0m",
      "\u001b[0;31mKeyboardInterrupt\u001b[0m                         Traceback (most recent call last)",
      "Input \u001b[0;32mIn [26]\u001b[0m, in \u001b[0;36m<module>\u001b[0;34m\u001b[0m\n\u001b[1;32m     31\u001b[0m outputs \u001b[38;5;241m=\u001b[39m model(  b_input_ids,\n\u001b[1;32m     32\u001b[0m                   labels\u001b[38;5;241m=\u001b[39mb_labels, \n\u001b[1;32m     33\u001b[0m                   attention_mask \u001b[38;5;241m=\u001b[39m b_masks,\n\u001b[1;32m     34\u001b[0m                   token_type_ids\u001b[38;5;241m=\u001b[39m\u001b[38;5;28;01mNone\u001b[39;00m\n\u001b[1;32m     35\u001b[0m                 )\n\u001b[1;32m     37\u001b[0m loss \u001b[38;5;241m=\u001b[39m outputs[\u001b[38;5;241m0\u001b[39m]  \n\u001b[0;32m---> 39\u001b[0m batch_loss \u001b[38;5;241m=\u001b[39m \u001b[43mloss\u001b[49m\u001b[38;5;241;43m.\u001b[39;49m\u001b[43mitem\u001b[49m\u001b[43m(\u001b[49m\u001b[43m)\u001b[49m\n\u001b[1;32m     40\u001b[0m total_train_loss \u001b[38;5;241m+\u001b[39m\u001b[38;5;241m=\u001b[39m batch_loss\n\u001b[1;32m     42\u001b[0m \u001b[38;5;66;03m# Get sample every x batches.\u001b[39;00m\n",
      "\u001b[0;31mKeyboardInterrupt\u001b[0m: "
     ]
    }
   ],
   "source": [
    "total_t0 = time.time()\n",
    "\n",
    "training_stats = []\n",
    "\n",
    "model = model.to(device)\n",
    "\n",
    "for epoch_i in range(0, epochs):\n",
    "\n",
    "    # ========================================\n",
    "    #               Training\n",
    "    # ========================================\n",
    "\n",
    "    print(\"\")\n",
    "    print('======== Epoch {:} / {:} ========'.format(epoch_i + 1, epochs))\n",
    "    print('Training...')\n",
    "\n",
    "    t0 = time.time()\n",
    "\n",
    "    total_train_loss = 0\n",
    "\n",
    "    model.train()\n",
    "\n",
    "    for step, batch in enumerate(train_dataloader):\n",
    "\n",
    "        b_input_ids = batch[0].to(device)\n",
    "        b_labels = batch[0].to(device)\n",
    "        b_masks = batch[1].to(device)\n",
    "\n",
    "        model.zero_grad()        \n",
    "\n",
    "        outputs = model(  b_input_ids,\n",
    "                          labels=b_labels, \n",
    "                          attention_mask = b_masks,\n",
    "                          token_type_ids=None\n",
    "                        )\n",
    "\n",
    "        loss = outputs[0]  \n",
    "\n",
    "        batch_loss = loss.item()\n",
    "        total_train_loss += batch_loss\n",
    "\n",
    "        # Get sample every x batches.\n",
    "        if step % sample_every == 0 and not step == 0:\n",
    "\n",
    "            elapsed = format_time(time.time() - t0)\n",
    "            print('  Batch {:>5,}  of  {:>5,}. Loss: {:>5,}.   Elapsed: {:}.'.format(step, len(train_dataloader), batch_loss, elapsed))\n",
    "\n",
    "            model.eval()\n",
    "\n",
    "            sample_outputs = model.generate( # print examples of generated outputs\n",
    "                                    bos_token_id=random.randint(1,30000),\n",
    "                                    do_sample=True,   \n",
    "                                    top_k=50, \n",
    "                                    max_length = 200,\n",
    "                                    top_p=0.95, \n",
    "                                    num_return_sequences=1\n",
    "                                )\n",
    "#            for i, sample_output in enumerate(sample_outputs):\n",
    "#                  print(\"{}: {}\".format(i, tokenizer.decode(sample_output, skip_special_tokens=True)))\n",
    "            \n",
    "            model.train()\n",
    "\n",
    "        loss.backward()\n",
    "\n",
    "        optimizer.step()\n",
    "\n",
    "        scheduler.step()\n",
    "\n",
    "    # Calculate the average loss over all of the batches.\n",
    "    avg_train_loss = total_train_loss / len(train_dataloader)       \n",
    "    \n",
    "    # Measure how long this epoch took.\n",
    "    training_time = format_time(time.time() - t0)\n",
    "\n",
    "    print(\"\")\n",
    "    print(\"  Average training loss: {0:.2f}\".format(avg_train_loss))\n",
    "    print(\"  Training epoch took: {:}\".format(training_time))\n",
    "        \n",
    "    # ========================================\n",
    "    #               Validation\n",
    "    # ========================================\n",
    "\n",
    "    print(\"\")\n",
    "    print(\"Running Validation...\")\n",
    "\n",
    "    t0 = time.time()\n",
    "\n",
    "    model.eval()\n",
    "\n",
    "    total_eval_loss = 0\n",
    "    nb_eval_steps = 0\n",
    "\n",
    "    # Evaluate data for one epoch\n",
    "    for batch in validation_dataloader:\n",
    "        \n",
    "        b_input_ids = batch[0].to(device)\n",
    "        b_labels = batch[0].to(device)\n",
    "        b_masks = batch[1].to(device)\n",
    "        \n",
    "        with torch.no_grad():        \n",
    "\n",
    "            outputs  = model(b_input_ids, \n",
    "#                            token_type_ids=None, \n",
    "                             attention_mask = b_masks,\n",
    "                            labels=b_labels)\n",
    "          \n",
    "            loss = outputs[0]  \n",
    "            \n",
    "        batch_loss = loss.item()\n",
    "        total_eval_loss += batch_loss        \n",
    "\n",
    "    avg_val_loss = total_eval_loss / len(validation_dataloader)\n",
    "    \n",
    "    validation_time = format_time(time.time() - t0)    \n",
    "\n",
    "    print(\"  Validation Loss: {0:.2f}\".format(avg_val_loss))\n",
    "    print(\"  Validation took: {:}\".format(validation_time))\n",
    "\n",
    "    # Record all statistics from this epoch.\n",
    "    training_stats.append(\n",
    "        {\n",
    "            'epoch': epoch_i + 1,\n",
    "            'Training Loss': avg_train_loss,\n",
    "            'Valid. Loss': avg_val_loss,\n",
    "            'Training Time': training_time,\n",
    "            'Validation Time': validation_time\n",
    "        }\n",
    "    )\n",
    "\n",
    "print(\"\")\n",
    "print(\"Training complete!\")\n",
    "print(\"Total training took {:} (h:mm:ss)\".format(format_time(time.time()-total_t0)))"
   ]
  },
  {
   "cell_type": "markdown",
   "metadata": {
    "id": "VQTvJ1vRP7u4"
   },
   "source": [
    "Let's view the summary of the training process."
   ]
  },
  {
   "cell_type": "code",
   "execution_count": null,
   "metadata": {
    "colab": {
     "background_save": true
    },
    "execution": {
     "iopub.status.busy": "2022-05-03T08:17:12.852385Z",
     "iopub.status.idle": "2022-05-03T08:17:12.852705Z",
     "shell.execute_reply": "2022-05-03T08:17:12.852557Z",
     "shell.execute_reply.started": "2022-05-03T08:17:12.852531Z"
    },
    "id": "6O_NbXFGMukX",
    "outputId": "44c2a692-6560-4f34-fe3a-31c96805f9c1"
   },
   "outputs": [],
   "source": [
    "# Display floats with two decimal places.\n",
    "pd.set_option('precision', 2)\n",
    "\n",
    "# Create a DataFrame from our training statistics.\n",
    "df_stats = pd.DataFrame(data=training_stats)\n",
    "\n",
    "# Use the 'epoch' as the row index.\n",
    "df_stats = df_stats.set_index('epoch')\n",
    "\n",
    "# A hack to force the column headers to wrap.\n",
    "#df = df.style.set_table_styles([dict(selector=\"th\",props=[('max-width', '70px')])])\n",
    "\n",
    "# Display the table.\n",
    "df_stats"
   ]
  },
  {
   "cell_type": "code",
   "execution_count": null,
   "metadata": {
    "colab": {
     "background_save": true
    },
    "execution": {
     "iopub.status.busy": "2022-05-03T08:17:12.853787Z",
     "iopub.status.idle": "2022-05-03T08:17:12.854060Z",
     "shell.execute_reply": "2022-05-03T08:17:12.853932Z",
     "shell.execute_reply.started": "2022-05-03T08:17:12.853916Z"
    },
    "id": "68xreA9JAmG5",
    "outputId": "3d1fcd94-3239-4abd-ecd7-0e66bac595ac"
   },
   "outputs": [],
   "source": [
    "# Use plot styling from seaborn.\n",
    "sns.set(style='darkgrid')\n",
    "\n",
    "# Increase the plot size and font size.\n",
    "sns.set(font_scale=1.5)\n",
    "plt.rcParams[\"figure.figsize\"] = (12,6)\n",
    "\n",
    "# Plot the learning curve.\n",
    "plt.plot(df_stats['Training Loss'], 'b-o', label=\"Training\")\n",
    "plt.plot(df_stats['Valid. Loss'], 'g-o', label=\"Validation\")\n",
    "\n",
    "# Label the plot.\n",
    "plt.title(\"Training & Validation Loss\")\n",
    "plt.xlabel(\"Epoch\")\n",
    "plt.ylabel(\"Loss\")\n",
    "plt.legend()\n",
    "plt.xticks([1, 2, 3, 4])\n",
    "\n",
    "plt.show()"
   ]
  },
  {
   "cell_type": "markdown",
   "metadata": {
    "id": "GfjYoa6WmkN6"
   },
   "source": [
    "# Display Model Info"
   ]
  },
  {
   "cell_type": "code",
   "execution_count": null,
   "metadata": {
    "colab": {
     "background_save": true
    },
    "execution": {
     "iopub.status.busy": "2022-05-03T08:17:12.855315Z",
     "iopub.status.idle": "2022-05-03T08:17:12.855592Z",
     "shell.execute_reply": "2022-05-03T08:17:12.855472Z",
     "shell.execute_reply.started": "2022-05-03T08:17:12.855456Z"
    },
    "id": "8PIiVlDYCtSq",
    "outputId": "ee11f2c4-1c45-4728-e1fe-18387e6b9b4f"
   },
   "outputs": [],
   "source": [
    "# Get all of the model's parameters as a list of tuples.\n",
    "params = list(model.named_parameters())\n",
    "\n",
    "print('The GPT-2 model has {:} different named parameters.\\n'.format(len(params)))\n",
    "\n",
    "print('==== Embedding Layer ====\\n')\n",
    "\n",
    "for p in params[0:2]:\n",
    "    print(\"{:<55} {:>12}\".format(p[0], str(tuple(p[1].size()))))\n",
    "\n",
    "print('\\n==== First Transformer ====\\n')\n",
    "\n",
    "for p in params[2:14]:\n",
    "    print(\"{:<55} {:>12}\".format(p[0], str(tuple(p[1].size()))))\n",
    "\n",
    "print('\\n==== Output Layer ====\\n')\n",
    "\n",
    "for p in params[-2:]:\n",
    "    print(\"{:<55} {:>12}\".format(p[0], str(tuple(p[1].size()))))"
   ]
  },
  {
   "cell_type": "markdown",
   "metadata": {
    "id": "q2079Qyn8Mt8"
   },
   "source": [
    "# Saving & Loading Fine-Tuned Model\n"
   ]
  },
  {
   "cell_type": "code",
   "execution_count": null,
   "metadata": {
    "colab": {
     "background_save": true
    },
    "execution": {
     "iopub.status.busy": "2022-05-03T08:17:12.856515Z",
     "iopub.status.idle": "2022-05-03T08:17:12.856771Z",
     "shell.execute_reply": "2022-05-03T08:17:12.856650Z",
     "shell.execute_reply.started": "2022-05-03T08:17:12.856635Z"
    },
    "id": "6ulTWaOr8QNY",
    "outputId": "3d5e956d-9999-4fd4-ae67-9edb7e85532f"
   },
   "outputs": [],
   "source": [
    "# Saving best-practices: if you use defaults names for the model, you can reload it using from_pretrained()\n",
    "\n",
    "#output_dir = './model_save/'\n",
    "output_dir = './models'\n",
    "\n",
    "# Create output directory if needed\n",
    "if not os.path.exists(output_dir):\n",
    "    os.makedirs(output_dir)\n",
    "\n",
    "print(\"Saving model to %s\" % output_dir)\n",
    "\n",
    "# Save a trained model, configuration and tokenizer using `save_pretrained()`.\n",
    "# They can then be reloaded using `from_pretrained()`\n",
    "model_to_save = model.module if hasattr(model, 'module') else model  # Take care of distributed/parallel training\n",
    "model_to_save.save_pretrained(output_dir)\n",
    "#tokenizer.save_pretrained(output_dir)\n",
    "\n",
    "# Good practice: save your training arguments together with the trained model\n",
    "# torch.save(args, os.path.join(output_dir, 'training_args.bin'))\n"
   ]
  },
  {
   "cell_type": "code",
   "execution_count": null,
   "metadata": {
    "execution": {
     "iopub.status.busy": "2022-05-03T08:17:12.857406Z",
     "iopub.status.idle": "2022-05-03T08:17:12.858192Z",
     "shell.execute_reply": "2022-05-03T08:17:12.857896Z",
     "shell.execute_reply.started": "2022-05-03T08:17:12.857842Z"
    }
   },
   "outputs": [],
   "source": [
    "export_path = './models'\n",
    "torch.save(model, f'{export_path}/gpt2_v2.pt')\n",
    "tokenizer.save_pretrained(export_path)"
   ]
  },
  {
   "cell_type": "markdown",
   "metadata": {
    "id": "ZLf6rbRglYhQ"
   },
   "source": [
    "# Generate Text"
   ]
  },
  {
   "cell_type": "code",
   "execution_count": null,
   "metadata": {
    "colab": {
     "background_save": true
    },
    "execution": {
     "iopub.status.busy": "2022-05-03T08:17:12.859215Z",
     "iopub.status.idle": "2022-05-03T08:17:12.859523Z",
     "shell.execute_reply": "2022-05-03T08:17:12.859390Z",
     "shell.execute_reply.started": "2022-05-03T08:17:12.859373Z"
    },
    "id": "ZUCldcRVm_kh"
   },
   "outputs": [],
   "source": [
    "# # Load a trained model and vocabulary that you have fine-tuned\n",
    "# model_dump_dir = 'drive/MyDrive/Colab Notebooks/HowTo/GPT-2/v2/model/'\n",
    "# model = GPT2LMHeadModel.from_pretrained(model_dump_dir)\n",
    "# tokenizer = GPT2Tokenizer.from_pretrained(model_dump_dir)\n",
    "# device = torch.device(\"cuda\")\n",
    "# model.to(device)"
   ]
  },
  {
   "cell_type": "code",
   "execution_count": null,
   "metadata": {
    "colab": {
     "background_save": true
    },
    "execution": {
     "iopub.status.busy": "2022-05-03T08:17:12.860804Z",
     "iopub.status.idle": "2022-05-03T08:17:12.861078Z",
     "shell.execute_reply": "2022-05-03T08:17:12.860946Z",
     "shell.execute_reply.started": "2022-05-03T08:17:12.860930Z"
    },
    "id": "v4XhewaV93-_",
    "outputId": "f5fdb5d4-dd48-4482-de43-d162a6c67ea0"
   },
   "outputs": [],
   "source": [
    "model.eval()\n",
    "input_prompt = \"How to draw a circle\"\n",
    "\n",
    "prompt = f\"\\n<|startoftext|>[WP] {input_prompt} \\n[RESPONSE]\"\n",
    "\n",
    "generated = torch.tensor(tokenizer.encode(prompt)).unsqueeze(0)\n",
    "generated = generated.to(device)\n",
    "\n",
    "sample_outputs = model.generate(\n",
    "                                generated, \n",
    "                                #bos_token_id=random.randint(1,30000),\n",
    "                                do_sample=True,   \n",
    "                                top_k=50, \n",
    "                                max_length = 300,\n",
    "                                top_p=0.95, \n",
    "                                num_return_sequences=3\n",
    "                                )\n",
    "\n",
    "for i, sample_output in enumerate(sample_outputs):\n",
    "  print(\"{}: {}\\n\\n\".format(i, tokenizer.decode(sample_output, skip_special_tokens=True)))"
   ]
  }
 ],
 "metadata": {
  "accelerator": "GPU",
  "colab": {
   "background_execution": "on",
   "collapsed_sections": [],
   "machine_shape": "hm",
   "name": "WIP: GPT-2 Fine-Tuning Pytorch.ipynb",
   "provenance": []
  },
  "kernelspec": {
   "display_name": "Python 3 (ipykernel)",
   "language": "python",
   "name": "python3"
  },
  "language_info": {
   "codemirror_mode": {
    "name": "ipython",
    "version": 3
   },
   "file_extension": ".py",
   "mimetype": "text/x-python",
   "name": "python",
   "nbconvert_exporter": "python",
   "pygments_lexer": "ipython3",
   "version": "3.8.12"
  },
  "widgets": {
   "application/vnd.jupyter.widget-state+json": {
    "018d89c9be074abda46e13a8f5d53bc6": {
     "model_module": "@jupyter-widgets/base",
     "model_module_version": "1.2.0",
     "model_name": "LayoutModel",
     "state": {
      "_model_module": "@jupyter-widgets/base",
      "_model_module_version": "1.2.0",
      "_model_name": "LayoutModel",
      "_view_count": null,
      "_view_module": "@jupyter-widgets/base",
      "_view_module_version": "1.2.0",
      "_view_name": "LayoutView",
      "align_content": null,
      "align_items": null,
      "align_self": null,
      "border": null,
      "bottom": null,
      "display": null,
      "flex": null,
      "flex_flow": null,
      "grid_area": null,
      "grid_auto_columns": null,
      "grid_auto_flow": null,
      "grid_auto_rows": null,
      "grid_column": null,
      "grid_gap": null,
      "grid_row": null,
      "grid_template_areas": null,
      "grid_template_columns": null,
      "grid_template_rows": null,
      "height": null,
      "justify_content": null,
      "justify_items": null,
      "left": null,
      "margin": null,
      "max_height": null,
      "max_width": null,
      "min_height": null,
      "min_width": null,
      "object_fit": null,
      "object_position": null,
      "order": null,
      "overflow": null,
      "overflow_x": null,
      "overflow_y": null,
      "padding": null,
      "right": null,
      "top": null,
      "visibility": null,
      "width": null
     }
    },
    "028d440a3fc04e189296f4ba054b7094": {
     "model_module": "@jupyter-widgets/controls",
     "model_module_version": "1.5.0",
     "model_name": "HTMLModel",
     "state": {
      "_dom_classes": [],
      "_model_module": "@jupyter-widgets/controls",
      "_model_module_version": "1.5.0",
      "_model_name": "HTMLModel",
      "_view_count": null,
      "_view_module": "@jupyter-widgets/controls",
      "_view_module_version": "1.5.0",
      "_view_name": "HTMLView",
      "description": "",
      "description_tooltip": null,
      "layout": "IPY_MODEL_018d89c9be074abda46e13a8f5d53bc6",
      "placeholder": "​",
      "style": "IPY_MODEL_1a37d54ad02c4197b284cba999a20f46",
      "value": "Downloading: 100%"
     }
    },
    "0416273103dd499f8cd68601eb9c0814": {
     "model_module": "@jupyter-widgets/base",
     "model_module_version": "1.2.0",
     "model_name": "LayoutModel",
     "state": {
      "_model_module": "@jupyter-widgets/base",
      "_model_module_version": "1.2.0",
      "_model_name": "LayoutModel",
      "_view_count": null,
      "_view_module": "@jupyter-widgets/base",
      "_view_module_version": "1.2.0",
      "_view_name": "LayoutView",
      "align_content": null,
      "align_items": null,
      "align_self": null,
      "border": null,
      "bottom": null,
      "display": null,
      "flex": null,
      "flex_flow": null,
      "grid_area": null,
      "grid_auto_columns": null,
      "grid_auto_flow": null,
      "grid_auto_rows": null,
      "grid_column": null,
      "grid_gap": null,
      "grid_row": null,
      "grid_template_areas": null,
      "grid_template_columns": null,
      "grid_template_rows": null,
      "height": null,
      "justify_content": null,
      "justify_items": null,
      "left": null,
      "margin": null,
      "max_height": null,
      "max_width": null,
      "min_height": null,
      "min_width": null,
      "object_fit": null,
      "object_position": null,
      "order": null,
      "overflow": null,
      "overflow_x": null,
      "overflow_y": null,
      "padding": null,
      "right": null,
      "top": null,
      "visibility": null,
      "width": null
     }
    },
    "07dc2ac5b4574db08209c96e188a89df": {
     "model_module": "@jupyter-widgets/base",
     "model_module_version": "1.2.0",
     "model_name": "LayoutModel",
     "state": {
      "_model_module": "@jupyter-widgets/base",
      "_model_module_version": "1.2.0",
      "_model_name": "LayoutModel",
      "_view_count": null,
      "_view_module": "@jupyter-widgets/base",
      "_view_module_version": "1.2.0",
      "_view_name": "LayoutView",
      "align_content": null,
      "align_items": null,
      "align_self": null,
      "border": null,
      "bottom": null,
      "display": null,
      "flex": null,
      "flex_flow": null,
      "grid_area": null,
      "grid_auto_columns": null,
      "grid_auto_flow": null,
      "grid_auto_rows": null,
      "grid_column": null,
      "grid_gap": null,
      "grid_row": null,
      "grid_template_areas": null,
      "grid_template_columns": null,
      "grid_template_rows": null,
      "height": null,
      "justify_content": null,
      "justify_items": null,
      "left": null,
      "margin": null,
      "max_height": null,
      "max_width": null,
      "min_height": null,
      "min_width": null,
      "object_fit": null,
      "object_position": null,
      "order": null,
      "overflow": null,
      "overflow_x": null,
      "overflow_y": null,
      "padding": null,
      "right": null,
      "top": null,
      "visibility": null,
      "width": null
     }
    },
    "0c13fbef4fe14d5b93d2431cfa4eae9a": {
     "model_module": "@jupyter-widgets/controls",
     "model_module_version": "1.5.0",
     "model_name": "FloatProgressModel",
     "state": {
      "_dom_classes": [],
      "_model_module": "@jupyter-widgets/controls",
      "_model_module_version": "1.5.0",
      "_model_name": "FloatProgressModel",
      "_view_count": null,
      "_view_module": "@jupyter-widgets/controls",
      "_view_module_version": "1.5.0",
      "_view_name": "ProgressView",
      "bar_style": "success",
      "description": "",
      "description_tooltip": null,
      "layout": "IPY_MODEL_ec4844d9cb114bfbab30c0a709931c52",
      "max": 665,
      "min": 0,
      "orientation": "horizontal",
      "style": "IPY_MODEL_61810713a8f0477992609efd05a452d5",
      "value": 665
     }
    },
    "17eece06f7764918b7bff14f39a47abc": {
     "model_module": "@jupyter-widgets/controls",
     "model_module_version": "1.5.0",
     "model_name": "HTMLModel",
     "state": {
      "_dom_classes": [],
      "_model_module": "@jupyter-widgets/controls",
      "_model_module_version": "1.5.0",
      "_model_name": "HTMLModel",
      "_view_count": null,
      "_view_module": "@jupyter-widgets/controls",
      "_view_module_version": "1.5.0",
      "_view_name": "HTMLView",
      "description": "",
      "description_tooltip": null,
      "layout": "IPY_MODEL_23348a3b002948c7b694635afbf1db17",
      "placeholder": "​",
      "style": "IPY_MODEL_f69fa6c5fbce464fb86cb512cbdd8f27",
      "value": " 446k/446k [00:00&lt;00:00, 4.62MB/s]"
     }
    },
    "1a37d54ad02c4197b284cba999a20f46": {
     "model_module": "@jupyter-widgets/controls",
     "model_module_version": "1.5.0",
     "model_name": "DescriptionStyleModel",
     "state": {
      "_model_module": "@jupyter-widgets/controls",
      "_model_module_version": "1.5.0",
      "_model_name": "DescriptionStyleModel",
      "_view_count": null,
      "_view_module": "@jupyter-widgets/base",
      "_view_module_version": "1.2.0",
      "_view_name": "StyleView",
      "description_width": ""
     }
    },
    "1b84aa7f26c84065b0d383890a9503ed": {
     "model_module": "@jupyter-widgets/controls",
     "model_module_version": "1.5.0",
     "model_name": "DescriptionStyleModel",
     "state": {
      "_model_module": "@jupyter-widgets/controls",
      "_model_module_version": "1.5.0",
      "_model_name": "DescriptionStyleModel",
      "_view_count": null,
      "_view_module": "@jupyter-widgets/base",
      "_view_module_version": "1.2.0",
      "_view_name": "StyleView",
      "description_width": ""
     }
    },
    "1d011f636a314cb683a462a67ea54fd7": {
     "model_module": "@jupyter-widgets/controls",
     "model_module_version": "1.5.0",
     "model_name": "HBoxModel",
     "state": {
      "_dom_classes": [],
      "_model_module": "@jupyter-widgets/controls",
      "_model_module_version": "1.5.0",
      "_model_name": "HBoxModel",
      "_view_count": null,
      "_view_module": "@jupyter-widgets/controls",
      "_view_module_version": "1.5.0",
      "_view_name": "HBoxView",
      "box_style": "",
      "children": [
       "IPY_MODEL_028d440a3fc04e189296f4ba054b7094",
       "IPY_MODEL_0c13fbef4fe14d5b93d2431cfa4eae9a",
       "IPY_MODEL_2fc0721c76f44c7da932bc14536edd52"
      ],
      "layout": "IPY_MODEL_a505d0045c4d4eb28111a4fd446ef38d"
     }
    },
    "23348a3b002948c7b694635afbf1db17": {
     "model_module": "@jupyter-widgets/base",
     "model_module_version": "1.2.0",
     "model_name": "LayoutModel",
     "state": {
      "_model_module": "@jupyter-widgets/base",
      "_model_module_version": "1.2.0",
      "_model_name": "LayoutModel",
      "_view_count": null,
      "_view_module": "@jupyter-widgets/base",
      "_view_module_version": "1.2.0",
      "_view_name": "LayoutView",
      "align_content": null,
      "align_items": null,
      "align_self": null,
      "border": null,
      "bottom": null,
      "display": null,
      "flex": null,
      "flex_flow": null,
      "grid_area": null,
      "grid_auto_columns": null,
      "grid_auto_flow": null,
      "grid_auto_rows": null,
      "grid_column": null,
      "grid_gap": null,
      "grid_row": null,
      "grid_template_areas": null,
      "grid_template_columns": null,
      "grid_template_rows": null,
      "height": null,
      "justify_content": null,
      "justify_items": null,
      "left": null,
      "margin": null,
      "max_height": null,
      "max_width": null,
      "min_height": null,
      "min_width": null,
      "object_fit": null,
      "object_position": null,
      "order": null,
      "overflow": null,
      "overflow_x": null,
      "overflow_y": null,
      "padding": null,
      "right": null,
      "top": null,
      "visibility": null,
      "width": null
     }
    },
    "2e75b97535a1475ea4af4b286b915bbc": {
     "model_module": "@jupyter-widgets/controls",
     "model_module_version": "1.5.0",
     "model_name": "HBoxModel",
     "state": {
      "_dom_classes": [],
      "_model_module": "@jupyter-widgets/controls",
      "_model_module_version": "1.5.0",
      "_model_name": "HBoxModel",
      "_view_count": null,
      "_view_module": "@jupyter-widgets/controls",
      "_view_module_version": "1.5.0",
      "_view_name": "HBoxView",
      "box_style": "",
      "children": [
       "IPY_MODEL_ca9f1c38a7ce4a10b1b098b48a917560",
       "IPY_MODEL_dcf62af5d93a4c49a64820c3a75852a8",
       "IPY_MODEL_79af9d1f1e964011b868ecdcaacae50d"
      ],
      "layout": "IPY_MODEL_0416273103dd499f8cd68601eb9c0814"
     }
    },
    "2fc0721c76f44c7da932bc14536edd52": {
     "model_module": "@jupyter-widgets/controls",
     "model_module_version": "1.5.0",
     "model_name": "HTMLModel",
     "state": {
      "_dom_classes": [],
      "_model_module": "@jupyter-widgets/controls",
      "_model_module_version": "1.5.0",
      "_model_name": "HTMLModel",
      "_view_count": null,
      "_view_module": "@jupyter-widgets/controls",
      "_view_module_version": "1.5.0",
      "_view_name": "HTMLView",
      "description": "",
      "description_tooltip": null,
      "layout": "IPY_MODEL_34bace3a3b3846b79cf944381636074b",
      "placeholder": "​",
      "style": "IPY_MODEL_5eef78837131451196cf1ae451a156b6",
      "value": " 665/665 [00:00&lt;00:00, 19.1kB/s]"
     }
    },
    "31fcedb8dd33473bb35602647978c19a": {
     "model_module": "@jupyter-widgets/base",
     "model_module_version": "1.2.0",
     "model_name": "LayoutModel",
     "state": {
      "_model_module": "@jupyter-widgets/base",
      "_model_module_version": "1.2.0",
      "_model_name": "LayoutModel",
      "_view_count": null,
      "_view_module": "@jupyter-widgets/base",
      "_view_module_version": "1.2.0",
      "_view_name": "LayoutView",
      "align_content": null,
      "align_items": null,
      "align_self": null,
      "border": null,
      "bottom": null,
      "display": null,
      "flex": null,
      "flex_flow": null,
      "grid_area": null,
      "grid_auto_columns": null,
      "grid_auto_flow": null,
      "grid_auto_rows": null,
      "grid_column": null,
      "grid_gap": null,
      "grid_row": null,
      "grid_template_areas": null,
      "grid_template_columns": null,
      "grid_template_rows": null,
      "height": null,
      "justify_content": null,
      "justify_items": null,
      "left": null,
      "margin": null,
      "max_height": null,
      "max_width": null,
      "min_height": null,
      "min_width": null,
      "object_fit": null,
      "object_position": null,
      "order": null,
      "overflow": null,
      "overflow_x": null,
      "overflow_y": null,
      "padding": null,
      "right": null,
      "top": null,
      "visibility": null,
      "width": null
     }
    },
    "34bace3a3b3846b79cf944381636074b": {
     "model_module": "@jupyter-widgets/base",
     "model_module_version": "1.2.0",
     "model_name": "LayoutModel",
     "state": {
      "_model_module": "@jupyter-widgets/base",
      "_model_module_version": "1.2.0",
      "_model_name": "LayoutModel",
      "_view_count": null,
      "_view_module": "@jupyter-widgets/base",
      "_view_module_version": "1.2.0",
      "_view_name": "LayoutView",
      "align_content": null,
      "align_items": null,
      "align_self": null,
      "border": null,
      "bottom": null,
      "display": null,
      "flex": null,
      "flex_flow": null,
      "grid_area": null,
      "grid_auto_columns": null,
      "grid_auto_flow": null,
      "grid_auto_rows": null,
      "grid_column": null,
      "grid_gap": null,
      "grid_row": null,
      "grid_template_areas": null,
      "grid_template_columns": null,
      "grid_template_rows": null,
      "height": null,
      "justify_content": null,
      "justify_items": null,
      "left": null,
      "margin": null,
      "max_height": null,
      "max_width": null,
      "min_height": null,
      "min_width": null,
      "object_fit": null,
      "object_position": null,
      "order": null,
      "overflow": null,
      "overflow_x": null,
      "overflow_y": null,
      "padding": null,
      "right": null,
      "top": null,
      "visibility": null,
      "width": null
     }
    },
    "5578b19a5d2a408b85b13f6b81464cef": {
     "model_module": "@jupyter-widgets/controls",
     "model_module_version": "1.5.0",
     "model_name": "DescriptionStyleModel",
     "state": {
      "_model_module": "@jupyter-widgets/controls",
      "_model_module_version": "1.5.0",
      "_model_name": "DescriptionStyleModel",
      "_view_count": null,
      "_view_module": "@jupyter-widgets/base",
      "_view_module_version": "1.2.0",
      "_view_name": "StyleView",
      "description_width": ""
     }
    },
    "5eef78837131451196cf1ae451a156b6": {
     "model_module": "@jupyter-widgets/controls",
     "model_module_version": "1.5.0",
     "model_name": "DescriptionStyleModel",
     "state": {
      "_model_module": "@jupyter-widgets/controls",
      "_model_module_version": "1.5.0",
      "_model_name": "DescriptionStyleModel",
      "_view_count": null,
      "_view_module": "@jupyter-widgets/base",
      "_view_module_version": "1.2.0",
      "_view_name": "StyleView",
      "description_width": ""
     }
    },
    "61810713a8f0477992609efd05a452d5": {
     "model_module": "@jupyter-widgets/controls",
     "model_module_version": "1.5.0",
     "model_name": "ProgressStyleModel",
     "state": {
      "_model_module": "@jupyter-widgets/controls",
      "_model_module_version": "1.5.0",
      "_model_name": "ProgressStyleModel",
      "_view_count": null,
      "_view_module": "@jupyter-widgets/base",
      "_view_module_version": "1.2.0",
      "_view_name": "StyleView",
      "bar_color": null,
      "description_width": ""
     }
    },
    "6f392bf107554b1f822728805d0ea74e": {
     "model_module": "@jupyter-widgets/base",
     "model_module_version": "1.2.0",
     "model_name": "LayoutModel",
     "state": {
      "_model_module": "@jupyter-widgets/base",
      "_model_module_version": "1.2.0",
      "_model_name": "LayoutModel",
      "_view_count": null,
      "_view_module": "@jupyter-widgets/base",
      "_view_module_version": "1.2.0",
      "_view_name": "LayoutView",
      "align_content": null,
      "align_items": null,
      "align_self": null,
      "border": null,
      "bottom": null,
      "display": null,
      "flex": null,
      "flex_flow": null,
      "grid_area": null,
      "grid_auto_columns": null,
      "grid_auto_flow": null,
      "grid_auto_rows": null,
      "grid_column": null,
      "grid_gap": null,
      "grid_row": null,
      "grid_template_areas": null,
      "grid_template_columns": null,
      "grid_template_rows": null,
      "height": null,
      "justify_content": null,
      "justify_items": null,
      "left": null,
      "margin": null,
      "max_height": null,
      "max_width": null,
      "min_height": null,
      "min_width": null,
      "object_fit": null,
      "object_position": null,
      "order": null,
      "overflow": null,
      "overflow_x": null,
      "overflow_y": null,
      "padding": null,
      "right": null,
      "top": null,
      "visibility": null,
      "width": null
     }
    },
    "79af9d1f1e964011b868ecdcaacae50d": {
     "model_module": "@jupyter-widgets/controls",
     "model_module_version": "1.5.0",
     "model_name": "HTMLModel",
     "state": {
      "_dom_classes": [],
      "_model_module": "@jupyter-widgets/controls",
      "_model_module_version": "1.5.0",
      "_model_name": "HTMLModel",
      "_view_count": null,
      "_view_module": "@jupyter-widgets/controls",
      "_view_module_version": "1.5.0",
      "_view_name": "HTMLView",
      "description": "",
      "description_tooltip": null,
      "layout": "IPY_MODEL_8f94922010be4163abb981a1a87ab274",
      "placeholder": "​",
      "style": "IPY_MODEL_e4f54b4de20d443c9425cca23ed1cfdf",
      "value": " 0.99M/0.99M [00:00&lt;00:00, 4.74MB/s]"
     }
    },
    "848fcdc25dca45598173929ad782cdd4": {
     "model_module": "@jupyter-widgets/base",
     "model_module_version": "1.2.0",
     "model_name": "LayoutModel",
     "state": {
      "_model_module": "@jupyter-widgets/base",
      "_model_module_version": "1.2.0",
      "_model_name": "LayoutModel",
      "_view_count": null,
      "_view_module": "@jupyter-widgets/base",
      "_view_module_version": "1.2.0",
      "_view_name": "LayoutView",
      "align_content": null,
      "align_items": null,
      "align_self": null,
      "border": null,
      "bottom": null,
      "display": null,
      "flex": null,
      "flex_flow": null,
      "grid_area": null,
      "grid_auto_columns": null,
      "grid_auto_flow": null,
      "grid_auto_rows": null,
      "grid_column": null,
      "grid_gap": null,
      "grid_row": null,
      "grid_template_areas": null,
      "grid_template_columns": null,
      "grid_template_rows": null,
      "height": null,
      "justify_content": null,
      "justify_items": null,
      "left": null,
      "margin": null,
      "max_height": null,
      "max_width": null,
      "min_height": null,
      "min_width": null,
      "object_fit": null,
      "object_position": null,
      "order": null,
      "overflow": null,
      "overflow_x": null,
      "overflow_y": null,
      "padding": null,
      "right": null,
      "top": null,
      "visibility": null,
      "width": null
     }
    },
    "85c65bfe01124a39a4a08e637fddc9ca": {
     "model_module": "@jupyter-widgets/controls",
     "model_module_version": "1.5.0",
     "model_name": "ProgressStyleModel",
     "state": {
      "_model_module": "@jupyter-widgets/controls",
      "_model_module_version": "1.5.0",
      "_model_name": "ProgressStyleModel",
      "_view_count": null,
      "_view_module": "@jupyter-widgets/base",
      "_view_module_version": "1.2.0",
      "_view_name": "StyleView",
      "bar_color": null,
      "description_width": ""
     }
    },
    "883fccbbc07c436aba1bd08d28c65bd1": {
     "model_module": "@jupyter-widgets/controls",
     "model_module_version": "1.5.0",
     "model_name": "HBoxModel",
     "state": {
      "_dom_classes": [],
      "_model_module": "@jupyter-widgets/controls",
      "_model_module_version": "1.5.0",
      "_model_name": "HBoxModel",
      "_view_count": null,
      "_view_module": "@jupyter-widgets/controls",
      "_view_module_version": "1.5.0",
      "_view_name": "HBoxView",
      "box_style": "",
      "children": [
       "IPY_MODEL_e51902ecd876466da2e70d3aeb4e11ae",
       "IPY_MODEL_a263f61d0a6e48209c0cfe48203cbfd9",
       "IPY_MODEL_17eece06f7764918b7bff14f39a47abc"
      ],
      "layout": "IPY_MODEL_31fcedb8dd33473bb35602647978c19a"
     }
    },
    "8f94922010be4163abb981a1a87ab274": {
     "model_module": "@jupyter-widgets/base",
     "model_module_version": "1.2.0",
     "model_name": "LayoutModel",
     "state": {
      "_model_module": "@jupyter-widgets/base",
      "_model_module_version": "1.2.0",
      "_model_name": "LayoutModel",
      "_view_count": null,
      "_view_module": "@jupyter-widgets/base",
      "_view_module_version": "1.2.0",
      "_view_name": "LayoutView",
      "align_content": null,
      "align_items": null,
      "align_self": null,
      "border": null,
      "bottom": null,
      "display": null,
      "flex": null,
      "flex_flow": null,
      "grid_area": null,
      "grid_auto_columns": null,
      "grid_auto_flow": null,
      "grid_auto_rows": null,
      "grid_column": null,
      "grid_gap": null,
      "grid_row": null,
      "grid_template_areas": null,
      "grid_template_columns": null,
      "grid_template_rows": null,
      "height": null,
      "justify_content": null,
      "justify_items": null,
      "left": null,
      "margin": null,
      "max_height": null,
      "max_width": null,
      "min_height": null,
      "min_width": null,
      "object_fit": null,
      "object_position": null,
      "order": null,
      "overflow": null,
      "overflow_x": null,
      "overflow_y": null,
      "padding": null,
      "right": null,
      "top": null,
      "visibility": null,
      "width": null
     }
    },
    "a263f61d0a6e48209c0cfe48203cbfd9": {
     "model_module": "@jupyter-widgets/controls",
     "model_module_version": "1.5.0",
     "model_name": "FloatProgressModel",
     "state": {
      "_dom_classes": [],
      "_model_module": "@jupyter-widgets/controls",
      "_model_module_version": "1.5.0",
      "_model_name": "FloatProgressModel",
      "_view_count": null,
      "_view_module": "@jupyter-widgets/controls",
      "_view_module_version": "1.5.0",
      "_view_name": "ProgressView",
      "bar_style": "success",
      "description": "",
      "description_tooltip": null,
      "layout": "IPY_MODEL_6f392bf107554b1f822728805d0ea74e",
      "max": 456318,
      "min": 0,
      "orientation": "horizontal",
      "style": "IPY_MODEL_abf5e580fd9f4a38a71edcd41780c263",
      "value": 456318
     }
    },
    "a362dcec7ed0483fbc8bd417b56ad001": {
     "model_module": "@jupyter-widgets/base",
     "model_module_version": "1.2.0",
     "model_name": "LayoutModel",
     "state": {
      "_model_module": "@jupyter-widgets/base",
      "_model_module_version": "1.2.0",
      "_model_name": "LayoutModel",
      "_view_count": null,
      "_view_module": "@jupyter-widgets/base",
      "_view_module_version": "1.2.0",
      "_view_name": "LayoutView",
      "align_content": null,
      "align_items": null,
      "align_self": null,
      "border": null,
      "bottom": null,
      "display": null,
      "flex": null,
      "flex_flow": null,
      "grid_area": null,
      "grid_auto_columns": null,
      "grid_auto_flow": null,
      "grid_auto_rows": null,
      "grid_column": null,
      "grid_gap": null,
      "grid_row": null,
      "grid_template_areas": null,
      "grid_template_columns": null,
      "grid_template_rows": null,
      "height": null,
      "justify_content": null,
      "justify_items": null,
      "left": null,
      "margin": null,
      "max_height": null,
      "max_width": null,
      "min_height": null,
      "min_width": null,
      "object_fit": null,
      "object_position": null,
      "order": null,
      "overflow": null,
      "overflow_x": null,
      "overflow_y": null,
      "padding": null,
      "right": null,
      "top": null,
      "visibility": null,
      "width": null
     }
    },
    "a505d0045c4d4eb28111a4fd446ef38d": {
     "model_module": "@jupyter-widgets/base",
     "model_module_version": "1.2.0",
     "model_name": "LayoutModel",
     "state": {
      "_model_module": "@jupyter-widgets/base",
      "_model_module_version": "1.2.0",
      "_model_name": "LayoutModel",
      "_view_count": null,
      "_view_module": "@jupyter-widgets/base",
      "_view_module_version": "1.2.0",
      "_view_name": "LayoutView",
      "align_content": null,
      "align_items": null,
      "align_self": null,
      "border": null,
      "bottom": null,
      "display": null,
      "flex": null,
      "flex_flow": null,
      "grid_area": null,
      "grid_auto_columns": null,
      "grid_auto_flow": null,
      "grid_auto_rows": null,
      "grid_column": null,
      "grid_gap": null,
      "grid_row": null,
      "grid_template_areas": null,
      "grid_template_columns": null,
      "grid_template_rows": null,
      "height": null,
      "justify_content": null,
      "justify_items": null,
      "left": null,
      "margin": null,
      "max_height": null,
      "max_width": null,
      "min_height": null,
      "min_width": null,
      "object_fit": null,
      "object_position": null,
      "order": null,
      "overflow": null,
      "overflow_x": null,
      "overflow_y": null,
      "padding": null,
      "right": null,
      "top": null,
      "visibility": null,
      "width": null
     }
    },
    "abf5e580fd9f4a38a71edcd41780c263": {
     "model_module": "@jupyter-widgets/controls",
     "model_module_version": "1.5.0",
     "model_name": "ProgressStyleModel",
     "state": {
      "_model_module": "@jupyter-widgets/controls",
      "_model_module_version": "1.5.0",
      "_model_name": "ProgressStyleModel",
      "_view_count": null,
      "_view_module": "@jupyter-widgets/base",
      "_view_module_version": "1.2.0",
      "_view_name": "StyleView",
      "bar_color": null,
      "description_width": ""
     }
    },
    "ca9f1c38a7ce4a10b1b098b48a917560": {
     "model_module": "@jupyter-widgets/controls",
     "model_module_version": "1.5.0",
     "model_name": "HTMLModel",
     "state": {
      "_dom_classes": [],
      "_model_module": "@jupyter-widgets/controls",
      "_model_module_version": "1.5.0",
      "_model_name": "HTMLModel",
      "_view_count": null,
      "_view_module": "@jupyter-widgets/controls",
      "_view_module_version": "1.5.0",
      "_view_name": "HTMLView",
      "description": "",
      "description_tooltip": null,
      "layout": "IPY_MODEL_07dc2ac5b4574db08209c96e188a89df",
      "placeholder": "​",
      "style": "IPY_MODEL_1b84aa7f26c84065b0d383890a9503ed",
      "value": "Downloading: 100%"
     }
    },
    "dcf62af5d93a4c49a64820c3a75852a8": {
     "model_module": "@jupyter-widgets/controls",
     "model_module_version": "1.5.0",
     "model_name": "FloatProgressModel",
     "state": {
      "_dom_classes": [],
      "_model_module": "@jupyter-widgets/controls",
      "_model_module_version": "1.5.0",
      "_model_name": "FloatProgressModel",
      "_view_count": null,
      "_view_module": "@jupyter-widgets/controls",
      "_view_module_version": "1.5.0",
      "_view_name": "ProgressView",
      "bar_style": "success",
      "description": "",
      "description_tooltip": null,
      "layout": "IPY_MODEL_a362dcec7ed0483fbc8bd417b56ad001",
      "max": 1042301,
      "min": 0,
      "orientation": "horizontal",
      "style": "IPY_MODEL_85c65bfe01124a39a4a08e637fddc9ca",
      "value": 1042301
     }
    },
    "e4f54b4de20d443c9425cca23ed1cfdf": {
     "model_module": "@jupyter-widgets/controls",
     "model_module_version": "1.5.0",
     "model_name": "DescriptionStyleModel",
     "state": {
      "_model_module": "@jupyter-widgets/controls",
      "_model_module_version": "1.5.0",
      "_model_name": "DescriptionStyleModel",
      "_view_count": null,
      "_view_module": "@jupyter-widgets/base",
      "_view_module_version": "1.2.0",
      "_view_name": "StyleView",
      "description_width": ""
     }
    },
    "e51902ecd876466da2e70d3aeb4e11ae": {
     "model_module": "@jupyter-widgets/controls",
     "model_module_version": "1.5.0",
     "model_name": "HTMLModel",
     "state": {
      "_dom_classes": [],
      "_model_module": "@jupyter-widgets/controls",
      "_model_module_version": "1.5.0",
      "_model_name": "HTMLModel",
      "_view_count": null,
      "_view_module": "@jupyter-widgets/controls",
      "_view_module_version": "1.5.0",
      "_view_name": "HTMLView",
      "description": "",
      "description_tooltip": null,
      "layout": "IPY_MODEL_848fcdc25dca45598173929ad782cdd4",
      "placeholder": "​",
      "style": "IPY_MODEL_5578b19a5d2a408b85b13f6b81464cef",
      "value": "Downloading: 100%"
     }
    },
    "ec4844d9cb114bfbab30c0a709931c52": {
     "model_module": "@jupyter-widgets/base",
     "model_module_version": "1.2.0",
     "model_name": "LayoutModel",
     "state": {
      "_model_module": "@jupyter-widgets/base",
      "_model_module_version": "1.2.0",
      "_model_name": "LayoutModel",
      "_view_count": null,
      "_view_module": "@jupyter-widgets/base",
      "_view_module_version": "1.2.0",
      "_view_name": "LayoutView",
      "align_content": null,
      "align_items": null,
      "align_self": null,
      "border": null,
      "bottom": null,
      "display": null,
      "flex": null,
      "flex_flow": null,
      "grid_area": null,
      "grid_auto_columns": null,
      "grid_auto_flow": null,
      "grid_auto_rows": null,
      "grid_column": null,
      "grid_gap": null,
      "grid_row": null,
      "grid_template_areas": null,
      "grid_template_columns": null,
      "grid_template_rows": null,
      "height": null,
      "justify_content": null,
      "justify_items": null,
      "left": null,
      "margin": null,
      "max_height": null,
      "max_width": null,
      "min_height": null,
      "min_width": null,
      "object_fit": null,
      "object_position": null,
      "order": null,
      "overflow": null,
      "overflow_x": null,
      "overflow_y": null,
      "padding": null,
      "right": null,
      "top": null,
      "visibility": null,
      "width": null
     }
    },
    "f69fa6c5fbce464fb86cb512cbdd8f27": {
     "model_module": "@jupyter-widgets/controls",
     "model_module_version": "1.5.0",
     "model_name": "DescriptionStyleModel",
     "state": {
      "_model_module": "@jupyter-widgets/controls",
      "_model_module_version": "1.5.0",
      "_model_name": "DescriptionStyleModel",
      "_view_count": null,
      "_view_module": "@jupyter-widgets/base",
      "_view_module_version": "1.2.0",
      "_view_name": "StyleView",
      "description_width": ""
     }
    }
   }
  }
 },
 "nbformat": 4,
 "nbformat_minor": 4
}
